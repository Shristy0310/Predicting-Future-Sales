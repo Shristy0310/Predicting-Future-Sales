{
  "metadata": {
    "kernelspec": {
      "display_name": "Python 3",
      "language": "python",
      "name": "python3"
    },
    "language_info": {
      "name": "python",
      "version": "3.10.13",
      "mimetype": "text/x-python",
      "codemirror_mode": {
        "name": "ipython",
        "version": 3
      },
      "pygments_lexer": "ipython3",
      "nbconvert_exporter": "python",
      "file_extension": ".py"
    },
    "kaggle": {
      "accelerator": "none",
      "dataSources": [
        {
          "sourceId": 4862520,
          "sourceType": "datasetVersion",
          "datasetId": 2818963
        }
      ],
      "dockerImageVersionId": 30646,
      "isInternetEnabled": false,
      "language": "python",
      "sourceType": "notebook",
      "isGpuEnabled": false
    },
    "colab": {
      "provenance": []
    }
  },
  "nbformat_minor": 0,
  "nbformat": 4,
  "cells": [
    {
      "cell_type": "markdown",
      "source": [
        "# **<p style=\"font-family:newtimeroman;font-size:200%;text-align:center;color:#06445e;\">Amazon Sales Dataset EDA</p>**"
      ],
      "metadata": {
        "id": "YMaVVBVThV9n"
      }
    },
    {
      "cell_type": "markdown",
      "source": [
        "![Amazon Sales Dataset EDA.jpg](attachment:166f2395-e99b-4423-ac36-938d393be975.jpg)"
      ],
      "metadata": {
        "id": "k_cbSbdYhV9p"
      }
    },
    {
      "cell_type": "markdown",
      "source": [
        "# <p style=\"font-family:newtimeroman;font-size:150%;text-align:center;color:#06445e;\">Import Libraries</p>\n",
        "### ***We will use the following libraries***\n",
        "### ***1. Pandas: Data manipulation and analysis***\n",
        "### ***2. Numpy: Numerical operations and calculations***\n",
        "### ***3. Matplotlib: Data visualization and plotting***\n",
        "### ***4. Seaborn: Enhanced data visualization and statistical graphics***\n",
        "### ***5. Scipy: Scientific computing and advanced mathematical operations***"
      ],
      "metadata": {
        "id": "v8KMQknlhV9u"
      }
    },
    {
      "cell_type": "code",
      "source": [
        "import pandas as pd\n",
        "import numpy as np\n",
        "import matplotlib.pyplot as plt\n",
        "import seaborn as sns\n",
        "import scipy as sp\n",
        "# this is for jupyter notebook to show the plot in the notebook itself instead of opening a new window\n",
        "%matplotlib inline\n"
      ],
      "metadata": {
        "execution": {
          "iopub.status.busy": "2024-02-26T12:41:32.183175Z",
          "iopub.execute_input": "2024-02-26T12:41:32.183618Z",
          "iopub.status.idle": "2024-02-26T12:41:33.208658Z",
          "shell.execute_reply.started": "2024-02-26T12:41:32.183584Z",
          "shell.execute_reply": "2024-02-26T12:41:33.207413Z"
        },
        "trusted": true,
        "id": "N9B-CxMdhV9u"
      },
      "execution_count": null,
      "outputs": []
    },
    {
      "cell_type": "markdown",
      "source": [
        "# <p style=\"font-family:newtimeroman;font-size:150%;text-align:center;color:#06445e;\">Data Loading and Exploration | Cleaning</p>"
      ],
      "metadata": {
        "id": "ivecj_zbhV9v"
      }
    },
    {
      "cell_type": "markdown",
      "source": [
        "#### **<h1 align=\"center\"><span style=\"color:#06445e;\">Load a CSV file then creating a dataframe</span>**"
      ],
      "metadata": {
        "id": "L_3WE5fohV9v"
      }
    },
    {
      "cell_type": "code",
      "source": [
        "df = pd.read_csv(\"/kaggle/input/amazon-sales-dataset/amazon.csv\")"
      ],
      "metadata": {
        "execution": {
          "iopub.status.busy": "2024-02-26T12:41:33.210662Z",
          "iopub.execute_input": "2024-02-26T12:41:33.211139Z",
          "iopub.status.idle": "2024-02-26T12:41:33.329099Z",
          "shell.execute_reply.started": "2024-02-26T12:41:33.211095Z",
          "shell.execute_reply": "2024-02-26T12:41:33.327904Z"
        },
        "trusted": true,
        "id": "5rTO6VNahV9v"
      },
      "execution_count": null,
      "outputs": []
    },
    {
      "cell_type": "markdown",
      "source": [
        "#### **<h1 align=\"center\"><span style=\"color:#06445e;\">Set the option to show maximum columns</span>**"
      ],
      "metadata": {
        "id": "MhPATR_QhV9w"
      }
    },
    {
      "cell_type": "code",
      "source": [
        "pd.set_option('display.max_columns', None)"
      ],
      "metadata": {
        "execution": {
          "iopub.status.busy": "2024-02-26T12:41:33.330663Z",
          "iopub.execute_input": "2024-02-26T12:41:33.331007Z",
          "iopub.status.idle": "2024-02-26T12:41:33.336027Z",
          "shell.execute_reply.started": "2024-02-26T12:41:33.330978Z",
          "shell.execute_reply": "2024-02-26T12:41:33.334706Z"
        },
        "trusted": true,
        "id": "cR5KpWiBhV9w"
      },
      "execution_count": null,
      "outputs": []
    },
    {
      "cell_type": "markdown",
      "source": [
        "#### **<h1 align=\"center\"><span style=\"color:#06445e;\">Get a sneak peek of data</span>**\n",
        "### ***The purpose of a sneak peek is to get a quick overview of the data and identify any potential problems or areas of interest.***"
      ],
      "metadata": {
        "id": "YnZjWdIihV9w"
      }
    },
    {
      "cell_type": "code",
      "source": [
        "# Let's have a look on top 5 rows of the data\n",
        "df.head(5)"
      ],
      "metadata": {
        "execution": {
          "iopub.status.busy": "2024-02-26T12:41:33.339483Z",
          "iopub.execute_input": "2024-02-26T12:41:33.340351Z",
          "iopub.status.idle": "2024-02-26T12:41:33.368552Z",
          "shell.execute_reply.started": "2024-02-26T12:41:33.340304Z",
          "shell.execute_reply": "2024-02-26T12:41:33.367412Z"
        },
        "trusted": true,
        "id": "2_DRtecwhV9w"
      },
      "execution_count": null,
      "outputs": []
    },
    {
      "cell_type": "markdown",
      "source": [
        "#### **<h1 align=\"center\"><span style=\"color:#06445e;\">Let's see the column names</span>**"
      ],
      "metadata": {
        "id": "Y2_G4qHehV9w"
      }
    },
    {
      "cell_type": "code",
      "source": [
        "df.columns"
      ],
      "metadata": {
        "execution": {
          "iopub.status.busy": "2024-02-26T12:41:33.370013Z",
          "iopub.execute_input": "2024-02-26T12:41:33.370729Z",
          "iopub.status.idle": "2024-02-26T12:41:33.378944Z",
          "shell.execute_reply.started": "2024-02-26T12:41:33.37069Z",
          "shell.execute_reply": "2024-02-26T12:41:33.377399Z"
        },
        "trusted": true,
        "id": "WyGBZLTohV9x"
      },
      "execution_count": null,
      "outputs": []
    },
    {
      "cell_type": "markdown",
      "source": [
        "#### **<h1 align=\"center\"><span style=\"color:#06445e;\">Let's have a look on the shape of the dataset</span>**"
      ],
      "metadata": {
        "id": "M03nvRnyhV9x"
      }
    },
    {
      "cell_type": "code",
      "source": [
        "print(f\"The Number of Rows are {df.shape[0]}, and columns are {df.shape[1]}.\")"
      ],
      "metadata": {
        "execution": {
          "iopub.status.busy": "2024-02-26T12:41:33.380517Z",
          "iopub.execute_input": "2024-02-26T12:41:33.380917Z",
          "iopub.status.idle": "2024-02-26T12:41:33.390087Z",
          "shell.execute_reply.started": "2024-02-26T12:41:33.380875Z",
          "shell.execute_reply": "2024-02-26T12:41:33.388903Z"
        },
        "trusted": true,
        "id": "yzVXb4C2hV9x"
      },
      "execution_count": null,
      "outputs": []
    },
    {
      "cell_type": "markdown",
      "source": [
        "#### **<h1 align=\"center\"><span style=\"color:#06445e;\">Let's have a look on the columns and their data types using detailed info function</span>**"
      ],
      "metadata": {
        "id": "6NQwzoxRhV9x"
      }
    },
    {
      "cell_type": "code",
      "source": [
        "df.info()"
      ],
      "metadata": {
        "execution": {
          "iopub.status.busy": "2024-02-26T12:41:33.39366Z",
          "iopub.execute_input": "2024-02-26T12:41:33.394717Z",
          "iopub.status.idle": "2024-02-26T12:41:33.413245Z",
          "shell.execute_reply.started": "2024-02-26T12:41:33.39468Z",
          "shell.execute_reply": "2024-02-26T12:41:33.412045Z"
        },
        "trusted": true,
        "id": "X-THTODphV9y"
      },
      "execution_count": null,
      "outputs": []
    },
    {
      "cell_type": "code",
      "source": [
        "df.isnull().sum()"
      ],
      "metadata": {
        "execution": {
          "iopub.status.busy": "2024-02-26T12:41:33.415216Z",
          "iopub.execute_input": "2024-02-26T12:41:33.415653Z",
          "iopub.status.idle": "2024-02-26T12:41:33.433417Z",
          "shell.execute_reply.started": "2024-02-26T12:41:33.415619Z",
          "shell.execute_reply": "2024-02-26T12:41:33.432006Z"
        },
        "trusted": true,
        "id": "Gn71uBvphV9y"
      },
      "execution_count": null,
      "outputs": []
    },
    {
      "cell_type": "markdown",
      "source": [
        "## <p style=\"font-family:newtimeroman;font-size:150%;text-align:center;color:#06445e;\">Observation Set 1</p>\n",
        "- ***There are 1465 rows and 16 columns in the dataset.***\n",
        "- ***The data type of all columns  is object.***\n",
        "-  ***The columns in the datasets are:***\n",
        "   - ***'product_id', 'product_name', 'category', 'discounted_price',\n",
        "      'actual_price', 'discount_percentage', 'rating', 'rating_count',\n",
        "      'about_product', 'user_id', 'user_name', 'review_id', 'review_title',\n",
        "      'review_content', 'img_link', 'product_link'***\n",
        "- ***There are a few missing values in the dataset, which we will read in detail and deal with later on in the notebook.***\n"
      ],
      "metadata": {
        "id": "1UCp_cjvhV9y"
      }
    },
    {
      "cell_type": "markdown",
      "source": [
        "# **<p style=\"font-family:newtimeroman;font-size:150%;text-align:center;color:#06445e;\">Changing Data Types of Columns from object to float</p>**"
      ],
      "metadata": {
        "id": "fj1OspcwhV9y"
      }
    },
    {
      "cell_type": "code",
      "source": [
        "# Changing the data type of discounted price and actual price\n",
        "\n",
        "df['discounted_price'] = df['discounted_price'].str.replace(\"₹\",'')\n",
        "df['discounted_price'] = df['discounted_price'].str.replace(\",\",'')\n",
        "df['discounted_price'] = df['discounted_price'].astype('float64')\n",
        "\n",
        "df['actual_price'] = df['actual_price'].str.replace(\"₹\",'')\n",
        "df['actual_price'] = df['actual_price'].str.replace(\",\",'')\n",
        "df['actual_price'] = df['actual_price'].astype('float64')"
      ],
      "metadata": {
        "execution": {
          "iopub.status.busy": "2024-02-26T12:41:33.434926Z",
          "iopub.execute_input": "2024-02-26T12:41:33.435937Z",
          "iopub.status.idle": "2024-02-26T12:41:33.454061Z",
          "shell.execute_reply.started": "2024-02-26T12:41:33.435887Z",
          "shell.execute_reply": "2024-02-26T12:41:33.452893Z"
        },
        "trusted": true,
        "id": "-wg2LHonhV9y"
      },
      "execution_count": null,
      "outputs": []
    },
    {
      "cell_type": "code",
      "source": [
        "# Changing Datatype and values in Discount Percentage\n",
        "\n",
        "df['discount_percentage'] = df['discount_percentage'].str.replace('%','').astype('float64')\n",
        "\n",
        "df['discount_percentage'] = df['discount_percentage'] / 100"
      ],
      "metadata": {
        "execution": {
          "iopub.status.busy": "2024-02-26T12:41:33.458349Z",
          "iopub.execute_input": "2024-02-26T12:41:33.458718Z",
          "iopub.status.idle": "2024-02-26T12:41:33.467318Z",
          "shell.execute_reply.started": "2024-02-26T12:41:33.458685Z",
          "shell.execute_reply": "2024-02-26T12:41:33.466455Z"
        },
        "trusted": true,
        "id": "F4dC996AhV9z"
      },
      "execution_count": null,
      "outputs": []
    },
    {
      "cell_type": "code",
      "source": [
        "# Finding unusual string in rating column\n",
        "df['rating'].value_counts()"
      ],
      "metadata": {
        "execution": {
          "iopub.status.busy": "2024-02-26T12:41:33.468734Z",
          "iopub.execute_input": "2024-02-26T12:41:33.469031Z",
          "iopub.status.idle": "2024-02-26T12:41:33.482503Z",
          "shell.execute_reply.started": "2024-02-26T12:41:33.469004Z",
          "shell.execute_reply": "2024-02-26T12:41:33.481737Z"
        },
        "trusted": true,
        "id": "dm8Y9lofhV9z"
      },
      "execution_count": null,
      "outputs": []
    },
    {
      "cell_type": "code",
      "source": [
        "# Check the strange row\n",
        "df.query('rating == \"|\"')"
      ],
      "metadata": {
        "execution": {
          "iopub.status.busy": "2024-02-26T12:41:33.48403Z",
          "iopub.execute_input": "2024-02-26T12:41:33.484383Z",
          "iopub.status.idle": "2024-02-26T12:41:33.513096Z",
          "shell.execute_reply.started": "2024-02-26T12:41:33.484355Z",
          "shell.execute_reply": "2024-02-26T12:41:33.511722Z"
        },
        "trusted": true,
        "id": "ZnPP1Z1zhV9z"
      },
      "execution_count": null,
      "outputs": []
    },
    {
      "cell_type": "markdown",
      "source": [
        "### ***I got this product `rating` on Amazon by searching the provided `product_id` on their official website (amazon.in)***\n",
        "### ***The `rating` is 3.9. So, I am going to give the item `rating` a 3.9 as well.***"
      ],
      "metadata": {
        "id": "D28_JoiShV9z"
      }
    },
    {
      "cell_type": "code",
      "source": [
        "# Changing Rating Columns Data Type\n",
        "\n",
        "df['rating'] = df['rating'].str.replace('|', '3.9').astype('float64')"
      ],
      "metadata": {
        "execution": {
          "iopub.status.busy": "2024-02-26T12:41:33.515263Z",
          "iopub.execute_input": "2024-02-26T12:41:33.515708Z",
          "iopub.status.idle": "2024-02-26T12:41:33.52829Z",
          "shell.execute_reply.started": "2024-02-26T12:41:33.515667Z",
          "shell.execute_reply": "2024-02-26T12:41:33.527085Z"
        },
        "trusted": true,
        "id": "E4kb_R53hV90"
      },
      "execution_count": null,
      "outputs": []
    },
    {
      "cell_type": "code",
      "source": [
        "# Changing 'rating_count' Column Data Type\n",
        "\n",
        "df['rating_count'] = df['rating_count'].str.replace(',', '').astype('float64')"
      ],
      "metadata": {
        "execution": {
          "iopub.status.busy": "2024-02-26T12:41:33.530599Z",
          "iopub.execute_input": "2024-02-26T12:41:33.531061Z",
          "iopub.status.idle": "2024-02-26T12:41:33.542326Z",
          "shell.execute_reply.started": "2024-02-26T12:41:33.531019Z",
          "shell.execute_reply": "2024-02-26T12:41:33.541168Z"
        },
        "trusted": true,
        "id": "amC1I2LghV90"
      },
      "execution_count": null,
      "outputs": []
    },
    {
      "cell_type": "code",
      "source": [
        "df.info()"
      ],
      "metadata": {
        "execution": {
          "iopub.status.busy": "2024-02-26T12:41:33.54396Z",
          "iopub.execute_input": "2024-02-26T12:41:33.544386Z",
          "iopub.status.idle": "2024-02-26T12:41:33.563184Z",
          "shell.execute_reply.started": "2024-02-26T12:41:33.544349Z",
          "shell.execute_reply": "2024-02-26T12:41:33.561777Z"
        },
        "trusted": true,
        "id": "0XJ7iQwDhV90"
      },
      "execution_count": null,
      "outputs": []
    },
    {
      "cell_type": "markdown",
      "source": [
        "# <p style=\"font-family:newtimeroman;font-size:150%;text-align:center;color:#06445e;\">Descriptive Statistics</p>\n",
        "### ***Descriptive statistics are a collection of quantitative measures that summarize and describe the main characteristics of a dataset.***"
      ],
      "metadata": {
        "id": "zLgvR3wahV90"
      }
    },
    {
      "cell_type": "code",
      "source": [
        "df.describe()"
      ],
      "metadata": {
        "execution": {
          "iopub.status.busy": "2024-02-26T12:41:33.564655Z",
          "iopub.execute_input": "2024-02-26T12:41:33.565056Z",
          "iopub.status.idle": "2024-02-26T12:41:33.594313Z",
          "shell.execute_reply.started": "2024-02-26T12:41:33.565019Z",
          "shell.execute_reply": "2024-02-26T12:41:33.593177Z"
        },
        "trusted": true,
        "id": "oBGbDlOIhV90"
      },
      "execution_count": null,
      "outputs": []
    },
    {
      "cell_type": "markdown",
      "source": [
        "## <p style=\"font-family:newtimeroman;font-size:150%;text-align:center;color:#06445e;\">Observation Set 2</p>\n",
        "- ***All columns data type was object So, I converted some column data type to float.***\n",
        "- ***There are 4 numeric as per Python coding or descriptive statistics from Python describe function***\n"
      ],
      "metadata": {
        "id": "NZRolkYLhV91"
      }
    },
    {
      "cell_type": "markdown",
      "source": [
        "---"
      ],
      "metadata": {
        "id": "lIhh5ZMVhV91"
      }
    },
    {
      "cell_type": "markdown",
      "source": [
        "# <p style=\"font-family:newtimeroman;font-size:150%;text-align:center;color:#06445e;\">Dealing with the missing values</p>"
      ],
      "metadata": {
        "id": "b3FPS1FthV91"
      }
    },
    {
      "cell_type": "markdown",
      "source": [
        "### ***Dealing with the missing values is one of the most important part of the data wrangling process, we must deal with the missing values in order to get the correct insights from the data.***"
      ],
      "metadata": {
        "id": "aOKpqbnPhV92"
      }
    },
    {
      "cell_type": "markdown",
      "source": [
        "\n",
        "### **<h1 align=\"center\"><span style=\"color:#06445e;\">Missing Values</span>**"
      ],
      "metadata": {
        "id": "kt0zgV9ShV99"
      }
    },
    {
      "cell_type": "code",
      "source": [
        "df.isnull().sum().sort_values(ascending = False)"
      ],
      "metadata": {
        "execution": {
          "iopub.status.busy": "2024-02-26T12:41:33.595999Z",
          "iopub.execute_input": "2024-02-26T12:41:33.596418Z",
          "iopub.status.idle": "2024-02-26T12:41:33.609026Z",
          "shell.execute_reply.started": "2024-02-26T12:41:33.596381Z",
          "shell.execute_reply": "2024-02-26T12:41:33.607839Z"
        },
        "trusted": true,
        "id": "UHqmgv4ChV99"
      },
      "execution_count": null,
      "outputs": []
    },
    {
      "cell_type": "code",
      "source": [
        "# Find missing values percentage in the data\n",
        "round(df.isnull().sum() / len(df) * 100, 2).sort_values(ascending=False)"
      ],
      "metadata": {
        "execution": {
          "iopub.status.busy": "2024-02-26T12:41:33.611213Z",
          "iopub.execute_input": "2024-02-26T12:41:33.611628Z",
          "iopub.status.idle": "2024-02-26T12:41:33.6269Z",
          "shell.execute_reply.started": "2024-02-26T12:41:33.611592Z",
          "shell.execute_reply": "2024-02-26T12:41:33.625573Z"
        },
        "trusted": true,
        "id": "wf7de9i2hV9-"
      },
      "execution_count": null,
      "outputs": []
    },
    {
      "cell_type": "code",
      "source": [
        "# Find total number of missing values\n",
        "df.isnull().sum().sum()"
      ],
      "metadata": {
        "execution": {
          "iopub.status.busy": "2024-02-26T12:41:33.628819Z",
          "iopub.execute_input": "2024-02-26T12:41:33.629241Z",
          "iopub.status.idle": "2024-02-26T12:41:33.642728Z",
          "shell.execute_reply.started": "2024-02-26T12:41:33.629203Z",
          "shell.execute_reply": "2024-02-26T12:41:33.64173Z"
        },
        "trusted": true,
        "id": "KkTvRvlihV9_"
      },
      "execution_count": null,
      "outputs": []
    },
    {
      "cell_type": "markdown",
      "source": [
        "#### **<h1 align=\"center\"><span style=\"color:#06445e;\">Let's plot the missing values</span>**"
      ],
      "metadata": {
        "id": "_yAoPNPnhV9_"
      }
    },
    {
      "cell_type": "code",
      "source": [
        "# make a figure size\n",
        "plt.figure(figsize=(22, 10))\n",
        "# plot the null values in each column\n",
        "sns.heatmap(df.isnull(), yticklabels=False, cbar=False, cmap='viridis')"
      ],
      "metadata": {
        "execution": {
          "iopub.status.busy": "2024-02-26T12:41:33.643833Z",
          "iopub.execute_input": "2024-02-26T12:41:33.644168Z",
          "iopub.status.idle": "2024-02-26T12:41:34.129612Z",
          "shell.execute_reply.started": "2024-02-26T12:41:33.644139Z",
          "shell.execute_reply": "2024-02-26T12:41:34.128181Z"
        },
        "trusted": true,
        "id": "wbiRA1wbhV9_"
      },
      "execution_count": null,
      "outputs": []
    },
    {
      "cell_type": "markdown",
      "source": [
        "        Figure-1: Heatmap of Missing Values"
      ],
      "metadata": {
        "id": "uZv-lTMzhV9_"
      }
    },
    {
      "cell_type": "markdown",
      "source": [
        "#### **<h1 align=\"center\"><span style=\"color:#06445e;\">Let's plot the missing values by percentage</span>**"
      ],
      "metadata": {
        "id": "fmpWKBGmhV-A"
      }
    },
    {
      "cell_type": "code",
      "source": [
        "# make figure size\n",
        "plt.figure(figsize=(22, 10))\n",
        "# plot the null values by their percentage in each column\n",
        "missing_percentage = df.isnull().sum()/len(df)*100\n",
        "missing_percentage.plot(kind='bar')\n",
        "# add the labels\n",
        "plt.xlabel('Columns')\n",
        "plt.ylabel('Percentage')\n",
        "plt.title('Percentage of Missing Values in each Column')"
      ],
      "metadata": {
        "execution": {
          "iopub.status.busy": "2024-02-26T12:41:34.13141Z",
          "iopub.execute_input": "2024-02-26T12:41:34.131731Z",
          "iopub.status.idle": "2024-02-26T12:41:34.651122Z",
          "shell.execute_reply.started": "2024-02-26T12:41:34.131704Z",
          "shell.execute_reply": "2024-02-26T12:41:34.650171Z"
        },
        "trusted": true,
        "id": "yefRPDUnhV-A"
      },
      "execution_count": null,
      "outputs": []
    },
    {
      "cell_type": "markdown",
      "source": [
        "        Figure-2: This is a percentage null values plot.\n"
      ],
      "metadata": {
        "id": "vs-_a2UJhV-A"
      }
    },
    {
      "cell_type": "markdown",
      "source": [
        "#### **<h1 align=\"center\"><span style=\"color:#06445e;\">We are only viewing the rows where there are null values in the column.</span>**"
      ],
      "metadata": {
        "id": "fbBaNoP9hV-B"
      }
    },
    {
      "cell_type": "code",
      "source": [
        "df[df['rating_count'].isnull()].head(5)"
      ],
      "metadata": {
        "execution": {
          "iopub.status.busy": "2024-02-26T12:41:34.652602Z",
          "iopub.execute_input": "2024-02-26T12:41:34.653206Z",
          "iopub.status.idle": "2024-02-26T12:41:34.673351Z",
          "shell.execute_reply.started": "2024-02-26T12:41:34.653174Z",
          "shell.execute_reply": "2024-02-26T12:41:34.672383Z"
        },
        "trusted": true,
        "id": "jYQUi2rchV-B"
      },
      "execution_count": null,
      "outputs": []
    },
    {
      "cell_type": "code",
      "source": [
        "# Impute missing values\n",
        "df['rating_count'] = df.rating_count.fillna(value=df['rating_count'].median())"
      ],
      "metadata": {
        "execution": {
          "iopub.status.busy": "2024-02-26T12:41:34.674641Z",
          "iopub.execute_input": "2024-02-26T12:41:34.675419Z",
          "iopub.status.idle": "2024-02-26T12:41:34.68256Z",
          "shell.execute_reply.started": "2024-02-26T12:41:34.67538Z",
          "shell.execute_reply": "2024-02-26T12:41:34.681278Z"
        },
        "trusted": true,
        "id": "O4lsWISWhV-B"
      },
      "execution_count": null,
      "outputs": []
    },
    {
      "cell_type": "code",
      "source": [
        "df.isnull().sum().sort_values(ascending = False)"
      ],
      "metadata": {
        "execution": {
          "iopub.status.busy": "2024-02-26T12:41:34.683921Z",
          "iopub.execute_input": "2024-02-26T12:41:34.684274Z",
          "iopub.status.idle": "2024-02-26T12:41:34.699274Z",
          "shell.execute_reply.started": "2024-02-26T12:41:34.684231Z",
          "shell.execute_reply": "2024-02-26T12:41:34.698463Z"
        },
        "trusted": true,
        "id": "Aw4czHPqhV-B"
      },
      "execution_count": null,
      "outputs": []
    },
    {
      "cell_type": "markdown",
      "source": [
        "## ***Milestone 1: We have cleaned the dataset from null values***"
      ],
      "metadata": {
        "id": "PcdFiJYwhV-C"
      }
    },
    {
      "cell_type": "markdown",
      "source": [
        "---"
      ],
      "metadata": {
        "id": "yYvKQ7dQhV-C"
      }
    },
    {
      "cell_type": "markdown",
      "source": [
        "# <p style=\"font-family:newtimeroman;font-size:150%;text-align:center;color:#06445e;\">Find Duplications and Analyse them</p>"
      ],
      "metadata": {
        "id": "Pm8xn5g9hV-C"
      }
    },
    {
      "cell_type": "markdown",
      "source": [
        "### **<h1 align=\"center\"><span style=\"color:#06445e;\">Duplicates</span>**\n",
        "### ***Removing duplicates is one of the most important part of the data wrangling process, we must remove the duplicates in order to get the correct insights from the data.***\n",
        "### ***If you do not remove duplicates from a dataset, it can lead to incorrect insights and analysis.***\n",
        "### ***Duplicates can skew statistical measures such as mean, median, and standard deviation, and can also lead to over-representation of certain data points.***\n",
        "### ***It is important to remove duplicates to ensure the accuracy and reliability of your data analysis.***"
      ],
      "metadata": {
        "id": "KaETPqmchV-C"
      }
    },
    {
      "cell_type": "code",
      "source": [
        "# Find Duplicate\n",
        "df.duplicated().any()"
      ],
      "metadata": {
        "execution": {
          "iopub.status.busy": "2024-02-26T12:41:34.700506Z",
          "iopub.execute_input": "2024-02-26T12:41:34.701682Z",
          "iopub.status.idle": "2024-02-26T12:41:34.728481Z",
          "shell.execute_reply.started": "2024-02-26T12:41:34.701649Z",
          "shell.execute_reply": "2024-02-26T12:41:34.727258Z"
        },
        "trusted": true,
        "id": "kXUS9WrvhV-D"
      },
      "execution_count": null,
      "outputs": []
    },
    {
      "cell_type": "code",
      "source": [
        "df.columns"
      ],
      "metadata": {
        "execution": {
          "iopub.status.busy": "2024-02-26T12:41:34.730588Z",
          "iopub.execute_input": "2024-02-26T12:41:34.731016Z",
          "iopub.status.idle": "2024-02-26T12:41:34.739205Z",
          "shell.execute_reply.started": "2024-02-26T12:41:34.730978Z",
          "shell.execute_reply": "2024-02-26T12:41:34.737994Z"
        },
        "trusted": true,
        "id": "xOY67XEbhV-D"
      },
      "execution_count": null,
      "outputs": []
    },
    {
      "cell_type": "code",
      "source": [
        "any_duplicates = df.duplicated(subset=['product_id', 'product_name', 'category', 'discounted_price',\n",
        "       'actual_price', 'discount_percentage', 'rating', 'rating_count',\n",
        "       'about_product', 'user_id', 'user_name', 'review_id', 'review_title',\n",
        "       'review_content', 'img_link', 'product_link']).any()"
      ],
      "metadata": {
        "execution": {
          "iopub.status.busy": "2024-02-26T12:41:34.7406Z",
          "iopub.execute_input": "2024-02-26T12:41:34.741304Z",
          "iopub.status.idle": "2024-02-26T12:41:34.764374Z",
          "shell.execute_reply.started": "2024-02-26T12:41:34.74127Z",
          "shell.execute_reply": "2024-02-26T12:41:34.763218Z"
        },
        "trusted": true,
        "id": "qXyghONThV-D"
      },
      "execution_count": null,
      "outputs": []
    },
    {
      "cell_type": "code",
      "source": [
        "any_duplicates"
      ],
      "metadata": {
        "execution": {
          "iopub.status.busy": "2024-02-26T12:41:34.771505Z",
          "iopub.execute_input": "2024-02-26T12:41:34.771923Z",
          "iopub.status.idle": "2024-02-26T12:41:34.780699Z",
          "shell.execute_reply.started": "2024-02-26T12:41:34.771889Z",
          "shell.execute_reply": "2024-02-26T12:41:34.778999Z"
        },
        "trusted": true,
        "id": "v8Ts7N_bhV-D"
      },
      "execution_count": null,
      "outputs": []
    },
    {
      "cell_type": "markdown",
      "source": [
        "## ***Milestone 2: Hence no duplicates found***"
      ],
      "metadata": {
        "id": "eEGsU-qZhV-E"
      }
    },
    {
      "cell_type": "markdown",
      "source": [
        "---"
      ],
      "metadata": {
        "id": "U8boYYYxhV-E"
      }
    },
    {
      "cell_type": "markdown",
      "source": [
        "# <p style=\"font-family:newtimeroman;font-size:150%;text-align:center;color:#06445e;\">Data Visualization</p>"
      ],
      "metadata": {
        "id": "dNRcqTUchV-E"
      }
    },
    {
      "cell_type": "markdown",
      "source": [
        "## **<p style=\"font-family:newtimeroman;font-size:150%;text-align:center;color:#06445e;\">Scatter Plot</p>**"
      ],
      "metadata": {
        "id": "wJpIPVyuhV-E"
      }
    },
    {
      "cell_type": "code",
      "source": [
        "# Plot actual_price vs. rating\n",
        "plt.scatter(df['actual_price'], df['rating'])\n",
        "plt.xlabel('Actual_price')\n",
        "plt.ylabel('Rating')\n",
        "plt.show()"
      ],
      "metadata": {
        "execution": {
          "iopub.status.busy": "2024-02-26T12:41:34.782241Z",
          "iopub.execute_input": "2024-02-26T12:41:34.782586Z",
          "iopub.status.idle": "2024-02-26T12:41:35.0205Z",
          "shell.execute_reply.started": "2024-02-26T12:41:34.782557Z",
          "shell.execute_reply": "2024-02-26T12:41:35.018884Z"
        },
        "trusted": true,
        "id": "4lO4pE4whV-F"
      },
      "execution_count": null,
      "outputs": []
    },
    {
      "cell_type": "code",
      "source": [
        "# dont show warnings\n",
        "import warnings\n",
        "warnings.filterwarnings('ignore')"
      ],
      "metadata": {
        "execution": {
          "iopub.status.busy": "2024-02-26T12:41:35.022359Z",
          "iopub.execute_input": "2024-02-26T12:41:35.022753Z",
          "iopub.status.idle": "2024-02-26T12:41:35.028799Z",
          "shell.execute_reply.started": "2024-02-26T12:41:35.022723Z",
          "shell.execute_reply": "2024-02-26T12:41:35.027301Z"
        },
        "trusted": true,
        "id": "pMcLFFGjhV-F"
      },
      "execution_count": null,
      "outputs": []
    },
    {
      "cell_type": "markdown",
      "source": [
        "## **<p style=\"font-family:newtimeroman;font-size:150%;text-align:center;color:#06445e;\">Histogram</p>**"
      ],
      "metadata": {
        "id": "x17k5vsShV-F"
      }
    },
    {
      "cell_type": "code",
      "source": [
        "# Plot distribution of actual_price\n",
        "plt.hist(df['actual_price'])\n",
        "plt.xlabel('Actual Price')\n",
        "plt.ylabel('Frequency')\n",
        "plt.show()"
      ],
      "metadata": {
        "execution": {
          "iopub.status.busy": "2024-02-26T12:41:35.030143Z",
          "iopub.execute_input": "2024-02-26T12:41:35.03064Z",
          "iopub.status.idle": "2024-02-26T12:41:35.274948Z",
          "shell.execute_reply.started": "2024-02-26T12:41:35.030608Z",
          "shell.execute_reply": "2024-02-26T12:41:35.273493Z"
        },
        "trusted": true,
        "id": "bagnMioYhV-F"
      },
      "execution_count": null,
      "outputs": []
    },
    {
      "cell_type": "code",
      "source": [
        "from sklearn.preprocessing import LabelEncoder\n",
        "# label encode categorical variables\n",
        "\n",
        "le_product_id = LabelEncoder()\n",
        "le_category = LabelEncoder()\n",
        "le_review_id = LabelEncoder()\n",
        "le_review_content = LabelEncoder()\n",
        "le_product_name = LabelEncoder()\n",
        "le_user_name = LabelEncoder()\n",
        "le_about_product = LabelEncoder()\n",
        "le_user_id = LabelEncoder()\n",
        "le_review_title = LabelEncoder()\n",
        "le_img_link = LabelEncoder()\n",
        "le_product_link = LabelEncoder()\n",
        "\n",
        "\n",
        "df['product_id'] = le_product_id.fit_transform(df['product_id'])\n",
        "df['category'] = le_category.fit_transform(df['category'])\n",
        "df['review_id'] = le_review_id.fit_transform(df['review_id'])\n",
        "df['review_content'] = le_review_content.fit_transform(df['review_content'])\n",
        "df['product_name'] = le_product_name.fit_transform(df['product_name'])\n",
        "df['user_name'] = le_user_name.fit_transform(df['user_name'])\n",
        "df['about_product'] = le_about_product.fit_transform(df['about_product'])\n",
        "df['user_id'] = le_user_id.fit_transform(df['user_id'])\n",
        "df['review_title'] = le_review_title.fit_transform(df['review_title'])\n",
        "df['img_link'] = le_img_link.fit_transform(df['img_link'])\n",
        "df['product_link'] = le_product_link.fit_transform(df['product_link'])"
      ],
      "metadata": {
        "execution": {
          "iopub.status.busy": "2024-02-26T12:41:35.276694Z",
          "iopub.execute_input": "2024-02-26T12:41:35.277033Z",
          "iopub.status.idle": "2024-02-26T12:41:35.392077Z",
          "shell.execute_reply.started": "2024-02-26T12:41:35.277005Z",
          "shell.execute_reply": "2024-02-26T12:41:35.390732Z"
        },
        "trusted": true,
        "id": "bQOBS8-qhV-G"
      },
      "execution_count": null,
      "outputs": []
    },
    {
      "cell_type": "markdown",
      "source": [
        "# **<p style=\"font-family:newtimeroman;font-size:150%;text-align:center;color:#06445e;\">Heatmap</p>**"
      ],
      "metadata": {
        "id": "cHCgi37LhV-G"
      }
    },
    {
      "cell_type": "code",
      "source": [
        "# Plot correlations between variables\n",
        "correlation_matrix = df.corr()\n",
        "sns.heatmap(correlation_matrix, annot=True)\n",
        "plt.show()"
      ],
      "metadata": {
        "execution": {
          "iopub.status.busy": "2024-02-26T12:41:35.39371Z",
          "iopub.execute_input": "2024-02-26T12:41:35.39407Z",
          "iopub.status.idle": "2024-02-26T12:41:36.376641Z",
          "shell.execute_reply.started": "2024-02-26T12:41:35.394041Z",
          "shell.execute_reply": "2024-02-26T12:41:36.375226Z"
        },
        "trusted": true,
        "id": "xkPNP8N5hV-G"
      },
      "execution_count": null,
      "outputs": []
    },
    {
      "cell_type": "markdown",
      "source": [
        "# <p style=\"font-family:newtimeroman;font-size:150%;text-align:center;color:#06445e;\">Correlation Analysis:</p>"
      ],
      "metadata": {
        "id": "5Jw2Jvz5hV-H"
      }
    },
    {
      "cell_type": "code",
      "source": [
        "# Calculate Pearson correlation coefficients (default in Pandas)\n",
        "correlation_matrix = df.corr()\n",
        "\n",
        "# Print the correlation matrix\n",
        "print(correlation_matrix)\n",
        "\n",
        "# Create a heatmap to visualize the correlations\n",
        "sns.heatmap(correlation_matrix, annot=True, cmap=\"coolwarm\")\n",
        "plt.title(\"Correlation Matrix (Pearson)\")\n",
        "plt.show()\n",
        "\n",
        "# Calculate Spearman correlation coefficients (for non-linear relationships)\n",
        "spearman_correlation_matrix = df.corr(method=\"spearman\")\n",
        "\n",
        "# Print the Spearman correlation matrix\n",
        "print(spearman_correlation_matrix)\n",
        "\n",
        "# Create a heatmap to visualize the Spearman correlations\n",
        "sns.heatmap(spearman_correlation_matrix, annot=True, cmap=\"coolwarm\")\n",
        "plt.title(\"Correlation Matrix (Spearman)\")\n",
        "plt.show()"
      ],
      "metadata": {
        "execution": {
          "iopub.status.busy": "2024-02-26T12:41:36.378912Z",
          "iopub.execute_input": "2024-02-26T12:41:36.379561Z",
          "iopub.status.idle": "2024-02-26T12:41:38.598149Z",
          "shell.execute_reply.started": "2024-02-26T12:41:36.379514Z",
          "shell.execute_reply": "2024-02-26T12:41:38.596885Z"
        },
        "trusted": true,
        "id": "IWlLQOWthV-H"
      },
      "execution_count": null,
      "outputs": []
    },
    {
      "cell_type": "code",
      "source": [
        "# Calculate correlation coefficient between product price and sales\n",
        "correlation_coefficient = np.corrcoef(df['actual_price'], df['rating'])[0, 1]\n",
        "\n",
        "# Print correlation coefficient\n",
        "print(correlation_coefficient)"
      ],
      "metadata": {
        "execution": {
          "iopub.status.busy": "2024-02-26T12:41:38.599885Z",
          "iopub.execute_input": "2024-02-26T12:41:38.600334Z",
          "iopub.status.idle": "2024-02-26T12:41:38.607949Z",
          "shell.execute_reply.started": "2024-02-26T12:41:38.600291Z",
          "shell.execute_reply": "2024-02-26T12:41:38.607155Z"
        },
        "trusted": true,
        "id": "MMrLA-xyhV-H"
      },
      "execution_count": null,
      "outputs": []
    },
    {
      "cell_type": "markdown",
      "source": [
        "# <p style=\"font-family:newtimeroman;font-size:150%;text-align:center;color:#06445e;\">Grouping and Aggregation</p>"
      ],
      "metadata": {
        "id": "EUziy9rLhV-I"
      }
    },
    {
      "cell_type": "code",
      "source": [
        "# Calculate mean sales by product category\n",
        "grouped_df = df.groupby('category')['rating'].mean()\n",
        "\n",
        "# Print mean sales by product category\n",
        "print(grouped_df)"
      ],
      "metadata": {
        "execution": {
          "iopub.status.busy": "2024-02-26T12:41:38.609152Z",
          "iopub.execute_input": "2024-02-26T12:41:38.609487Z",
          "iopub.status.idle": "2024-02-26T12:41:38.628067Z",
          "shell.execute_reply.started": "2024-02-26T12:41:38.609459Z",
          "shell.execute_reply": "2024-02-26T12:41:38.6264Z"
        },
        "trusted": true,
        "id": "Ssm4ratghV-I"
      },
      "execution_count": null,
      "outputs": []
    },
    {
      "cell_type": "markdown",
      "source": [
        "#### **<h1 align=\"center\"><span style=\"color:#06445e;\">Calculate summary statistics for groups</span>**"
      ],
      "metadata": {
        "id": "U8n35D3nhV-I"
      }
    },
    {
      "cell_type": "code",
      "source": [
        "# Mean rating by category\n",
        "mean_sales_by_category = df.groupby('category')['rating'].mean()\n",
        "print(mean_sales_by_category)\n",
        "\n",
        "# Median rating by review_content\n",
        "median_sales_by_age = df.groupby('review_content')['rating'].median()\n",
        "print(median_sales_by_age)\n",
        "\n",
        "# Standard deviation of actual_price by product_name\n",
        "std_price_by_brand = df.groupby('product_name')['actual_price'].std()\n",
        "print(std_price_by_brand)"
      ],
      "metadata": {
        "execution": {
          "iopub.status.busy": "2024-02-26T12:41:38.630528Z",
          "iopub.execute_input": "2024-02-26T12:41:38.631056Z",
          "iopub.status.idle": "2024-02-26T12:41:38.652399Z",
          "shell.execute_reply.started": "2024-02-26T12:41:38.631008Z",
          "shell.execute_reply": "2024-02-26T12:41:38.651359Z"
        },
        "trusted": true,
        "id": "rLOQTXyOhV-I"
      },
      "execution_count": null,
      "outputs": []
    },
    {
      "cell_type": "markdown",
      "source": [
        "# <p style=\"font-family:newtimeroman;font-size:150%;text-align:center;color:#06445e;\">Create pivot tables</p>"
      ],
      "metadata": {
        "id": "flaXd0ZUhV-J"
      }
    },
    {
      "cell_type": "code",
      "source": [
        "# Pivot table of rating by category and customer location\n",
        "pivot_table = df.pivot_table(values='rating', index='category', columns='product_link', aggfunc='mean')\n",
        "print(pivot_table)\n",
        "\n",
        "# Pivot table of average rating_count by customer age group and product category\n",
        "pivot_table = df.pivot_table(values='rating_count', index='review_content', columns='category', aggfunc='mean')\n",
        "print(pivot_table)"
      ],
      "metadata": {
        "_kg_hide-output": true,
        "execution": {
          "iopub.status.busy": "2024-02-26T12:41:38.654543Z",
          "iopub.execute_input": "2024-02-26T12:41:38.654919Z",
          "iopub.status.idle": "2024-02-26T12:41:39.309936Z",
          "shell.execute_reply.started": "2024-02-26T12:41:38.654889Z",
          "shell.execute_reply": "2024-02-26T12:41:39.308605Z"
        },
        "trusted": true,
        "id": "axT_D9b0hV-J"
      },
      "execution_count": null,
      "outputs": []
    },
    {
      "cell_type": "markdown",
      "source": [
        "# <p style=\"font-family:newtimeroman;font-size:150%;text-align:center;color:#06445e;\">Statistical Tests:</p>"
      ],
      "metadata": {
        "id": "HEx1lSqMhV-K"
      }
    },
    {
      "cell_type": "code",
      "source": [
        "import scipy.stats as stats\n",
        "\n",
        "# Conduct t-test to compare rating between two categories\n",
        "t_statistic, p_value = stats.ttest_ind(df[df['category'] == 'electronics']['rating'], df[df['category'] == 'clothing']['rating'])\n",
        "\n",
        "# Print t-statistic and p-value\n",
        "print(t_statistic, p_value)"
      ],
      "metadata": {
        "execution": {
          "iopub.status.busy": "2024-02-26T12:41:39.311379Z",
          "iopub.execute_input": "2024-02-26T12:41:39.311707Z",
          "iopub.status.idle": "2024-02-26T12:41:39.322625Z",
          "shell.execute_reply.started": "2024-02-26T12:41:39.311678Z",
          "shell.execute_reply": "2024-02-26T12:41:39.321333Z"
        },
        "trusted": true,
        "id": "Z3alHesghV-K"
      },
      "execution_count": null,
      "outputs": []
    },
    {
      "cell_type": "code",
      "source": [
        "df.info()"
      ],
      "metadata": {
        "execution": {
          "iopub.status.busy": "2024-02-26T12:41:39.324124Z",
          "iopub.execute_input": "2024-02-26T12:41:39.324468Z",
          "iopub.status.idle": "2024-02-26T12:41:39.341822Z",
          "shell.execute_reply.started": "2024-02-26T12:41:39.32444Z",
          "shell.execute_reply": "2024-02-26T12:41:39.340623Z"
        },
        "trusted": true,
        "id": "PDWkE2gMhV-K"
      },
      "execution_count": null,
      "outputs": []
    },
    {
      "cell_type": "code",
      "source": [
        "# Chi-square test\n",
        "\n",
        "# Create a contigency table\n",
        "contigency_table = pd.crosstab(df['actual_price'], df['rating'])\n",
        "contigency_table"
      ],
      "metadata": {
        "execution": {
          "iopub.status.busy": "2024-02-26T12:41:39.343471Z",
          "iopub.execute_input": "2024-02-26T12:41:39.34387Z",
          "iopub.status.idle": "2024-02-26T12:41:39.405841Z",
          "shell.execute_reply.started": "2024-02-26T12:41:39.34384Z",
          "shell.execute_reply": "2024-02-26T12:41:39.404949Z"
        },
        "trusted": true,
        "id": "kAKX8s0GhV-K"
      },
      "execution_count": null,
      "outputs": []
    },
    {
      "cell_type": "code",
      "source": [
        "# perform chi-square test\n",
        "chi2, p, dof, expected = stats.chi2_contingency(contigency_table)\n",
        "\n",
        "# print the results\n",
        "print('Chi-square statistic:', chi2)\n",
        "print('p-value:', p)\n",
        "print('Degrees of freedom:', dof)\n",
        "print(f\"Expected:\\n {expected}\")"
      ],
      "metadata": {
        "execution": {
          "iopub.status.busy": "2024-02-26T12:41:39.407487Z",
          "iopub.execute_input": "2024-02-26T12:41:39.407834Z",
          "iopub.status.idle": "2024-02-26T12:41:39.417478Z",
          "shell.execute_reply.started": "2024-02-26T12:41:39.407787Z",
          "shell.execute_reply": "2024-02-26T12:41:39.416179Z"
        },
        "trusted": true,
        "id": "i__Fp80DhV-L"
      },
      "execution_count": null,
      "outputs": []
    },
    {
      "cell_type": "code",
      "source": [
        "# inverse transform the data\n",
        "\n",
        "df['product_id'] = le_product_id.inverse_transform(df['product_id'])\n",
        "df['category'] = le_category.inverse_transform(df['category'])\n",
        "df['review_id'] = le_review_id.inverse_transform(df['review_id'])\n",
        "df['review_content'] = le_review_content.inverse_transform(df['review_content'])\n",
        "df['product_name'] = le_product_name.inverse_transform(df['product_name'])\n",
        "df['user_name'] = le_user_name.inverse_transform(df['user_name'])\n",
        "df['about_product'] = le_about_product.inverse_transform(df['about_product'])\n",
        "df['user_id'] = le_user_id.inverse_transform(df['user_id'])\n",
        "df['review_title'] = le_review_title.inverse_transform(df['review_title'])\n",
        "df['img_link'] = le_img_link.inverse_transform(df['img_link'])\n",
        "df['product_link'] = le_product_link.inverse_transform(df['product_link'])"
      ],
      "metadata": {
        "execution": {
          "iopub.status.busy": "2024-02-26T12:41:39.419291Z",
          "iopub.execute_input": "2024-02-26T12:41:39.419618Z",
          "iopub.status.idle": "2024-02-26T12:41:39.439672Z",
          "shell.execute_reply.started": "2024-02-26T12:41:39.419591Z",
          "shell.execute_reply": "2024-02-26T12:41:39.438069Z"
        },
        "trusted": true,
        "id": "iOqsgQv6hV-M"
      },
      "execution_count": null,
      "outputs": []
    },
    {
      "cell_type": "markdown",
      "source": [
        "---"
      ],
      "metadata": {
        "id": "iBYzCRh-hV-N"
      }
    },
    {
      "cell_type": "markdown",
      "source": [
        "# <p style=\"font-family:newtimeroman;font-size:150%;text-align:center;color:#06445e;\">Questions and Answers</p>\n",
        "### ***These are some questions are follows:***\n",
        "\n",
        "### ***Q1: What is the average rating for each product category?***\n",
        "### ***Q2: What are the top rating_count products by category?***\n",
        "### ***Q3: What is the distribution of discounted prices vs. actual prices?***\n",
        "### ***Q4: How does the average discount percentage vary across categories?***\n",
        "### ***Q5: What are the most popular product name?***\n",
        "### ***Q6: What are the most popular product keywords?***\n",
        "### ***Q7: What are the most popular product reviews?***\n",
        "### ***Q8: What is the correlation between discounted_price and rating?***\n",
        "### ***Q9: What are the Top 5 categories based with highest ratings?***\n"
      ],
      "metadata": {
        "id": "CMwftRm2hV-N"
      }
    },
    {
      "cell_type": "markdown",
      "source": [
        "## ***Q1: What is the average rating for each product category?***"
      ],
      "metadata": {
        "id": "RRe7EUTqhV-O"
      }
    },
    {
      "cell_type": "code",
      "source": [
        "import pandas as pd\n",
        "\n",
        "# Check the data type of the \"rating\" column\n",
        "print(df[\"rating\"].dtype)\n",
        "\n",
        "# If the data type is not numeric, convert it to numeric\n",
        "if df[\"rating\"].dtype == \"object\":\n",
        "    df[\"rating\"] = pd.to_numeric(df[\"rating\"], errors=\"coerce\")  # Handle potential errors\n",
        "\n",
        "# Calculate the average ratings after ensuring numeric data type\n",
        "average_ratings = df.groupby(\"category\")[\"rating\"].mean().reset_index()\n",
        "\n",
        "print(average_ratings)"
      ],
      "metadata": {
        "execution": {
          "iopub.status.busy": "2024-02-26T12:41:39.441306Z",
          "iopub.execute_input": "2024-02-26T12:41:39.441727Z",
          "iopub.status.idle": "2024-02-26T12:41:39.456274Z",
          "shell.execute_reply.started": "2024-02-26T12:41:39.441687Z",
          "shell.execute_reply": "2024-02-26T12:41:39.45522Z"
        },
        "trusted": true,
        "id": "Dme5BcWahV-O"
      },
      "execution_count": null,
      "outputs": []
    },
    {
      "cell_type": "markdown",
      "source": [
        "### ***Answer 1:***\n",
        "- ***The output shows that most product `categories` have generally positive customer feedback, with `average ratings above 3.50`. However, some categories (e.g., 2 and 3) have lower ratings, suggesting potential areas for improvement. Further analysis of these categories could help identify specific reasons for lower feedback and identify potential solutions.***"
      ],
      "metadata": {
        "id": "WEXfU725hV-P"
      }
    },
    {
      "cell_type": "markdown",
      "source": [
        "## ***Q2: What are the top rating_count products by category?***"
      ],
      "metadata": {
        "id": "byoSdj32hV-P"
      }
    },
    {
      "cell_type": "code",
      "source": [
        "import pandas as pd\n",
        "\n",
        "top_reviewed_per_category = (\n",
        "    df.groupby(\"category\")\n",
        "    .apply(lambda x: x.nlargest(10, \"rating_count\"))\n",
        "    .reset_index(drop=True)\n",
        ")\n",
        "\n",
        "print(top_reviewed_per_category)"
      ],
      "metadata": {
        "_kg_hide-input": false,
        "_kg_hide-output": true,
        "execution": {
          "iopub.status.busy": "2024-02-26T12:41:39.457897Z",
          "iopub.execute_input": "2024-02-26T12:41:39.458267Z",
          "iopub.status.idle": "2024-02-26T12:41:39.823612Z",
          "shell.execute_reply.started": "2024-02-26T12:41:39.458235Z",
          "shell.execute_reply": "2024-02-26T12:41:39.822469Z"
        },
        "trusted": true,
        "id": "8KsjZ2HMhV-P"
      },
      "execution_count": null,
      "outputs": []
    },
    {
      "cell_type": "markdown",
      "source": [
        "### ***Answer 2:***\n",
        "- ***The output highlights products likely to be popular within their categories based on high `review counts`, suggesting customer interest and engagement.***\n",
        "- ***Review counts range from `9 to 15867`, implying varying levels of attention and feedback across products.***\n",
        "- ***Most listed products have `ratings above 3.5`, indicating a generally positive customer experience.***\n",
        "- ***Products with the highest `review counts` within their `categories` might be considered potential top sellers, even without direct sales data.***"
      ],
      "metadata": {
        "id": "JgsszFH2hV-P"
      }
    },
    {
      "cell_type": "markdown",
      "source": [
        "## ***Q3: What is the distribution of discounted prices vs. actual prices?***"
      ],
      "metadata": {
        "id": "m_Bp1yCyhV-Q"
      }
    },
    {
      "cell_type": "code",
      "source": [
        "import pandas as pd\n",
        "\n",
        "# Create histograms\n",
        "df[\"discounted_price\"].hist(label=\"Discounted Price\")\n",
        "df[\"actual_price\"].hist(label=\"Actual Price\")\n",
        "\n",
        "# Calculate and analyze discount percentages\n",
        "df[\"discount_percentage\"] = (df[\"actual_price\"] - df[\"discounted_price\"]) / df[\"actual_price\"] * 100\n",
        "df[\"discount_percentage\"].describe()\n",
        "df[\"discount_percentage\"].hist(label=\"Discount Percentage\")\n"
      ],
      "metadata": {
        "execution": {
          "iopub.status.busy": "2024-02-26T12:41:39.82532Z",
          "iopub.execute_input": "2024-02-26T12:41:39.826747Z",
          "iopub.status.idle": "2024-02-26T12:41:40.134283Z",
          "shell.execute_reply.started": "2024-02-26T12:41:39.826705Z",
          "shell.execute_reply": "2024-02-26T12:41:40.132778Z"
        },
        "trusted": true,
        "id": "VFBERcYrhV-Q"
      },
      "execution_count": null,
      "outputs": []
    },
    {
      "cell_type": "markdown",
      "source": [
        "### ***Answer 3:***\n",
        "- ***The output shows that `discounted prices` are generally lower than `actual prices`, with a `median discounted price of $200` and a `median actual price of $400`.***\n",
        "- ***The `discount percentage` distribution is skewed to the left, with most products having a discount of `30% or less`.***\n",
        "- ***The output suggests that there may be opportunities to `increase discounted prices or discount percentages` to attract more customers.***"
      ],
      "metadata": {
        "id": "QiGzzxg4hV-Q"
      }
    },
    {
      "cell_type": "markdown",
      "source": [
        "## ***Q4: How does the average discount percentage vary across categories?***"
      ],
      "metadata": {
        "id": "-Ov1MI2FhV-Q"
      }
    },
    {
      "cell_type": "code",
      "source": [
        "# Calculate average discount percentage per category\n",
        "avg_discount_per_category = df.groupby('category')['discount_percentage'].mean()\n",
        "\n",
        "# Display results\n",
        "print(avg_discount_per_category)\n",
        "\n",
        "# Optional: Visualization\n",
        "sns.barplot(x=avg_discount_per_category.index, y=avg_discount_per_category.values)\n",
        "plt.xlabel(\"Category\")\n",
        "plt.ylabel(\"Average Discount Percentage\")\n",
        "plt.show()"
      ],
      "metadata": {
        "execution": {
          "iopub.status.busy": "2024-02-26T12:41:40.136096Z",
          "iopub.execute_input": "2024-02-26T12:41:40.136474Z",
          "iopub.status.idle": "2024-02-26T12:41:43.519923Z",
          "shell.execute_reply.started": "2024-02-26T12:41:40.136443Z",
          "shell.execute_reply": "2024-02-26T12:41:43.51854Z"
        },
        "trusted": true,
        "id": "1pLPaMVUhV-R"
      },
      "execution_count": null,
      "outputs": []
    },
    {
      "cell_type": "markdown",
      "source": [
        "### ***Answer 4:***\n",
        "- ***`Average discount percentages` vary widely across categories, ranging from `0% to 78.39%`.***\n",
        "- ***Categories 1 and 3 stand out with notably higher `average discounts (78.39% and 56.34%)`, suggesting potential factors like clearance efforts, high competition, or lower-profit margins.***\n",
        "- ***`Categories 0, 206, 207, 210` have `average discounts of 0%`, indicating consistent pricing or strong demand for products within those categories.***\n",
        "- ***Other categories exhibit varying `discount percentages`, likely reflecting diverse pricing strategies and market dynamics.***"
      ],
      "metadata": {
        "id": "Seva8QaQhV-R"
      }
    },
    {
      "cell_type": "markdown",
      "source": [
        "## ***Q5: What are the most popular product name?***"
      ],
      "metadata": {
        "id": "-n09nJZAhV-R"
      }
    },
    {
      "cell_type": "code",
      "source": [
        "# Count occurrences of product names\n",
        "product_counts = df[\"product_name\"].value_counts()\n",
        "\n",
        "# Sort in descending order and display top results\n",
        "print(product_counts.sort_values(ascending=False).head(10))"
      ],
      "metadata": {
        "execution": {
          "iopub.status.busy": "2024-02-26T12:41:43.521306Z",
          "iopub.execute_input": "2024-02-26T12:41:43.521632Z",
          "iopub.status.idle": "2024-02-26T12:41:43.531473Z",
          "shell.execute_reply.started": "2024-02-26T12:41:43.521605Z",
          "shell.execute_reply": "2024-02-26T12:41:43.530271Z"
        },
        "trusted": true,
        "id": "Zo8YgehRhV-R"
      },
      "execution_count": null,
      "outputs": []
    },
    {
      "cell_type": "markdown",
      "source": [
        "### ***Answer 5:***\n",
        "- ***Fire-Boltt Ninja Call Pro Plus Smart Watch is the most popular product, followed by Fire-Boltt Phoenix Smart Watch.***\n",
        "- ***Smart Watches and Charging Cables are the most popular product categories.***\n",
        "- ***Multiple brands are represented, with boAt appearing twice.***\n",
        "- ***Fast charging, durability, and functionality are key features.***\n",
        "- ***Popularity is relatively evenly distributed beyond the leading product.***"
      ],
      "metadata": {
        "id": "96b6_URxhV-S"
      }
    },
    {
      "cell_type": "markdown",
      "source": [
        "## ***Q6: What are the most popular product keywords?***"
      ],
      "metadata": {
        "id": "SQIdSe8MhV-S"
      }
    },
    {
      "cell_type": "code",
      "source": [
        "def extract_keywords(product_name):\n",
        "  \"\"\"Extracts keywords from a product name, handling potential numbers.\"\"\"\n",
        "  if isinstance(product_name, str):  # Check if it's a string\n",
        "    keywords = product_name.lower().split()  # Split into words and lowercase\n",
        "    keywords = [word for word in keywords if word.isalpha()]  # Remove non-alphabetical characters\n",
        "  else:\n",
        "    keywords = []  # Handle non-string values (e.g., integers) by returning an empty list\n",
        "  return keywords\n",
        "\n",
        "# Apply the function to extract keywords\n",
        "df[\"keywords\"] = df[\"product_name\"].apply(extract_keywords)\n",
        "\n",
        "# Flatten the list of keywords\n",
        "all_keywords = [keyword for keywords in df[\"keywords\"] for keyword in keywords]\n",
        "\n",
        "# Count keyword occurrences\n",
        "keyword_counts = pd.Series(all_keywords).value_counts()\n",
        "\n",
        "# Display the top 10 most popular keywords\n",
        "print(keyword_counts.head(10))"
      ],
      "metadata": {
        "execution": {
          "iopub.status.busy": "2024-02-26T12:41:43.532827Z",
          "iopub.execute_input": "2024-02-26T12:41:43.533212Z",
          "iopub.status.idle": "2024-02-26T12:41:43.565766Z",
          "shell.execute_reply.started": "2024-02-26T12:41:43.53318Z",
          "shell.execute_reply": "2024-02-26T12:41:43.564333Z"
        },
        "trusted": true,
        "id": "v0Cgyn9ahV-S"
      },
      "execution_count": null,
      "outputs": []
    },
    {
      "cell_type": "markdown",
      "source": [
        "### ***Answer 6:***\n",
        "- ***`USB` connectivity, `charging (especially fast charging)`, and `cables` are prominent product features.***\n",
        "- ***`Prepositions and conjunctions` like `\"with\", \"for\", \"and\", \"to\"` suggest a focus on explaining product compatibility and usage scenarios.***\n",
        "- ***`Cables and smart devices` are likely well-represented in the dataset.***\n",
        "- ***`Product names` tend to be concise and use `common words`, potentially benefiting from refined keyword extraction techniques.***"
      ],
      "metadata": {
        "id": "BYpBRRFehV-T"
      }
    },
    {
      "cell_type": "markdown",
      "source": [
        "## ***Q7: What are the most popular product reviews?***"
      ],
      "metadata": {
        "id": "mjhK1htwhV-T"
      }
    },
    {
      "cell_type": "code",
      "source": [
        "from textblob import TextBlob  # Import TextBlob library\n",
        "# Select review column\n",
        "df[[\"product_id\", \"user_id\", \"review_content\"]]\n",
        "\n",
        "# Calculate sentiment score for each review\n",
        "df[\"sentiment\"] = df[\"review_content\"].apply(lambda text: TextBlob(text).sentiment.polarity)\n",
        "\n",
        "# Sort by sentiment score (ascending for positive)\n",
        "df_sorted = df.sort_values(by=\"sentiment\", ascending=True)\n",
        "\n",
        "# Display top reviews based on a desired number (e.g., top 10)\n",
        "top_reviews = df_sorted.head(10)\n",
        "print(top_reviews)"
      ],
      "metadata": {
        "execution": {
          "iopub.status.busy": "2024-02-26T12:41:43.578405Z",
          "iopub.execute_input": "2024-02-26T12:41:43.578724Z",
          "iopub.status.idle": "2024-02-26T12:41:47.881699Z",
          "shell.execute_reply.started": "2024-02-26T12:41:43.578699Z",
          "shell.execute_reply": "2024-02-26T12:41:47.879961Z"
        },
        "trusted": true,
        "id": "Pa6JBaoPhV-T"
      },
      "execution_count": null,
      "outputs": []
    },
    {
      "cell_type": "markdown",
      "source": [
        "### ***Answer 7:***\n",
        "- ***The `overall sentiment scores` are relatively low, suggesting a tendency towards neutral or slightly negative reviews in the sample.***\n",
        "\n",
        "- ***The `review with the highest sentiment` score is `\"I have installed this in my kitchen working fine\"` (product_id 1463) with a score of -0.170167, indicating a mildly positive sentiment.***\n",
        "\n",
        "- ***The `review with the lowest sentiment` score is `\"tv on off not working, so difficult to battery charge\"` (product_id 155) with a score of -0.600000, suggesting a strongly negative sentiment.***\n",
        "\n",
        "- ***Several reviews mention issues with battery charging `(product_id 155)`, product quality `(product_id 1237)`, and ease of use `(product_id 1198)`, highlighting potential areas for improvement.***\n",
        "\n",
        "- ***Some `reviews` express `both positive and negative` aspects within the same text, like `\"Like and happy,,Please don't buy this heater\"` (product_id 1237), suggesting a nuanced evaluation of the product.***\n",
        "\n",
        "- ***The `user_id column` seems to contain `commas`, indicating multiple user IDs for some reviews. This might need investigation to ensure accuracy.***\n",
        "\n",
        "- ***`Reviews` for `product_id 22, 152, and 723` have identical content, suggesting potential data duplication or errors.***"
      ],
      "metadata": {
        "id": "onnVMnnqhV-T"
      }
    },
    {
      "cell_type": "markdown",
      "source": [
        "## ***Q8: What is the correlation between discounted_price and rating?***"
      ],
      "metadata": {
        "id": "TRpEAXe8hV-U"
      }
    },
    {
      "cell_type": "code",
      "source": [
        "# Calculate the correlation coefficient\n",
        "correlation_coefficient = df[\"discounted_price\"].corr(df[\"rating\"])\n",
        "\n",
        "# Print the correlation coefficient with two decimal places\n",
        "print(f\"Correlation between discounted_price and rating: {correlation_coefficient:.2f}\")"
      ],
      "metadata": {
        "execution": {
          "iopub.status.busy": "2024-02-26T12:41:47.884301Z",
          "iopub.execute_input": "2024-02-26T12:41:47.885255Z",
          "iopub.status.idle": "2024-02-26T12:41:47.894126Z",
          "shell.execute_reply.started": "2024-02-26T12:41:47.88521Z",
          "shell.execute_reply": "2024-02-26T12:41:47.892674Z"
        },
        "trusted": true,
        "id": "YO6k2xQNhV-U"
      },
      "execution_count": null,
      "outputs": []
    },
    {
      "cell_type": "markdown",
      "source": [
        "### ***Answer 8:***\n",
        "***`Discounted price` and `rating` have a `weak positive correlation`. This means that products with higher discounted prices tend to have slightly higher ratings, but the relationship is not very strong.***"
      ],
      "metadata": {
        "id": "96t169xdhV-U"
      }
    },
    {
      "cell_type": "markdown",
      "source": [
        "## ***Q9: What are the Top 5 categories based with highest ratings?***"
      ],
      "metadata": {
        "id": "Cr9-cEC9hV-U"
      }
    },
    {
      "cell_type": "code",
      "source": [
        "# Group data by category and calculate average rating\n",
        "average_ratings = df.groupby(\"category\")[\"rating\"].mean().reset_index()\n",
        "\n",
        "# Sort by average rating in descending order\n",
        "average_ratings = average_ratings.sort_values(by=\"rating\", ascending=False)\n",
        "\n",
        "# Print the top 5 categories\n",
        "print(\"Top 5 categories with highest average ratings:\")\n",
        "for i in range(5):\n",
        "    category = average_ratings.iloc[i][\"category\"]\n",
        "    average_rating = average_ratings.iloc[i][\"rating\"]\n",
        "    print(f\"{i+1}. {category}: {average_rating:.2f}\")"
      ],
      "metadata": {
        "execution": {
          "iopub.status.busy": "2024-02-26T12:41:47.895943Z",
          "iopub.execute_input": "2024-02-26T12:41:47.89646Z",
          "iopub.status.idle": "2024-02-26T12:41:47.911793Z",
          "shell.execute_reply.started": "2024-02-26T12:41:47.896428Z",
          "shell.execute_reply": "2024-02-26T12:41:47.910205Z"
        },
        "trusted": true,
        "id": "TyrXDSvdhV-V"
      },
      "execution_count": null,
      "outputs": []
    },
    {
      "cell_type": "markdown",
      "source": [
        "### ***Answer 9:***\n",
        "- ***The `top 5 categories` have `average ratings` between `4.50 and 4.60`, indicating overall positive customer satisfaction within these areas.***\n",
        "- ***Most of the top-rated categories fall within technology-related domains, including `tablets, networking devices, photography accessories, media streaming devices, and calculators`.***\n",
        "- ***Within broader categories like `\"Computers & Accessories\" and \"Electronics,\"` specific subcategories emerge as particularly well-rated, such as `tablets, powerline adapters, film accessories, and streaming clients`.***\n",
        "- ***`Four categories` share a `rating of 4.50`, suggesting similar levels of customer satisfaction across these areas.***\n",
        "- ***The `presence of \"Basic Calculators\"` in the top 5 suggests that even relatively simple products can `achieve high ratings` if they meet customer needs effectively.***"
      ],
      "metadata": {
        "id": "UTQSMlwLhV-V"
      }
    },
    {
      "cell_type": "markdown",
      "source": [
        "# <p style=\"font-family:newtimeroman;font-size:150%;text-align:center;color:#06445e;\">Summary</p>\n",
        "### ***Our insightful exploration of the Amazon Sales dataset, characterized by its remarkable cleanliness and consistency, yielded a treasure trove of findings. Through a series of targeted inquiries, we unlocked detailed answers and shed light on previously veiled aspects of the data and findings as follows:***"
      ],
      "metadata": {
        "id": "8pY4qDkphV-V"
      }
    },
    {
      "cell_type": "markdown",
      "source": [
        "## ***Q1: What is the average rating for each product category?***\n",
        "### ***Answer 1:***\n",
        "#### ***The output shows that most product `categories` have generally positive customer feedback, with `average ratings above 3.50`. However, some categories (e.g., 2 and 3) have lower ratings, suggesting potential areas for improvement. Further analysis of these categories could help identify specific reasons for lower feedback and identify potential solutions.***\n",
        "\n",
        "## ***Q2: What are the top rating_count products by category?***\n",
        "### ***Answer 2:***\n",
        "#### - ***The output highlights products likely to be popular within their categories based on high `review counts`, suggesting customer interest and engagement.***\n",
        "#### - ***Review counts range from `9 to 15867`, implying varying levels of attention and feedback across products.***\n",
        "#### - ***Most listed products have `ratings above 3.5`, indicating a generally positive customer experience.***\n",
        "#### - ***Products with the highest `review counts` within their `categories` might be considered potential top sellers, even without direct sales data.***\n",
        "  \n",
        "## ***Q3: What is the distribution of discounted prices vs. actual prices?***\n",
        "### ***Answer 3:***\n",
        "#### - ***The output shows that `discounted prices` are generally lower than `actual prices`, with a `median discounted price of $200` and a `median actual price of $400`.***\n",
        "#### - ***The `discount percentage` distribution is skewed to the left, with most products having a discount of `30% or less`.***\n",
        "#### - ***The output suggests that there may be opportunities to `increase discounted prices or discount percentages` to attract more customers.***\n",
        "  \n",
        "## ***Q4: How does the average discount percentage vary across categories?***\n",
        "### ***Answer 4:***\n",
        "#### - ***`Average discount percentages` vary widely across categories, ranging from `0% to 78.39%`.***\n",
        "#### - ***Categories 1 and 3 stand out with notably higher `average discounts (78.39% and 56.34%)`, suggesting potential factors like clearance efforts, high competition, or lower-profit margins.***\n",
        "#### - ***`Categories 0, 206, 207, 210` have `average discounts of 0%`, indicating consistent pricing or strong demand for products within those categories.***\n",
        "#### - ***Other categories exhibit varying `discount percentages`, likely reflecting diverse pricing strategies and market dynamics.***\n",
        "  \n",
        "## ***Q5: What are the most popular product name?***\n",
        "### ***Answer 5:***\n",
        "#### - ***Fire-Boltt Ninja Call Pro Plus Smart Watch is the most popular product, followed by Fire-Boltt Phoenix Smart Watch.***\n",
        "#### - ***Smart Watches and Charging Cables are the most popular product categories.***\n",
        "#### - ***Multiple brands are represented, with boAt appearing twice.***\n",
        "#### - ***Fast charging, durability, and functionality are key features.***\n",
        "#### - ***Popularity is relatively evenly distributed beyond the leading product.***\n",
        "  \n",
        "## ***Q6: What are the most popular product keywords?***\n",
        "### ***Answer 6:***\n",
        "#### - ***`USB` connectivity, `charging (especially fast charging)`, and `cables` are prominent product features.***\n",
        "#### - ***`Prepositions and conjunctions` like `\"with\", \"for\", \"and\", \"to\"` suggest a focus on explaining product compatibility and usage scenarios.***\n",
        "#### - ***`Cables and smart devices` are likely well-represented in the dataset.***\n",
        "#### - ***`Product names` tend to be concise and use `common words`, potentially benefiting from refined keyword extraction techniques.***\n",
        "  \n",
        "## ***Q7: What are the most popular product reviews?***\n",
        "### ***Answer 7:***\n",
        "#### - ***The `overall sentiment scores` are relatively low, suggesting a tendency towards neutral or slightly negative reviews in the sample.***\n",
        "#### - ***The `review with the highest sentiment` score is `\"I have installed this in my kitchen working fine\"` (product_id 1463) with a score of -0.170167, indicating a mildly positive sentiment.***\n",
        "#### - ***The `review with the lowest sentiment` score is `\"tv on off not working, so difficult to battery charge\"` (product_id 155) with a score of -0.600000, suggesting a strongly negative sentiment.***\n",
        "#### - ***Several reviews mention issues with battery charging `(product_id 155)`, product quality `(product_id 1237)`, and ease of use `(product_id 1198)`, highlighting potential areas for improvement.***\n",
        "#### - ***Some `reviews` express `both positive and negative` aspects within the same text, like `\"Like and happy,,Please don't buy this heater\"` (product_id 1237), suggesting a nuanced evaluation of the product.***\n",
        "#### - ***The `user_id column` seems to contain `commas`, indicating multiple user IDs for some reviews. This might need investigation to ensure accuracy.***\n",
        "#### - ***`Reviews` for `product_id 22, 152, and 723` have identical content, suggesting potential data duplication or errors.***\n",
        "\n",
        "## ***Q8: What is the correlation between discounted_price and rating?***\n",
        "### ***Answer 8:***\n",
        "#### ***`Discounted price` and `rating` have a `weak positive correlation`. This means that products with higher discounted prices tend to have slightly higher ratings, but the relationship is not very strong.***\n",
        "\n",
        "## ***Q9: What are the Top 5 categories based with highest ratings?***\n",
        "### ***Answer 9:***\n",
        "#### - ***The `top 5 categories` have `average ratings` between `4.50 and 4.60`, indicating overall positive customer satisfaction within these areas.***\n",
        "#### - ***Most of the top-rated categories fall within technology-related domains, including `tablets, networking devices, photography accessories, media streaming devices, and calculators`.***\n",
        "#### - ***Within broader categories like `\"Computers & Accessories\" and \"Electronics,\"` specific subcategories emerge as particularly well-rated, such as `tablets, powerline adapters, film accessories, and streaming clients`.***\n",
        "#### - ***`Four categories` share a `rating of 4.50`, suggesting similar levels of customer satisfaction across these areas.***\n",
        "#### - ***The `presence of \"Basic Calculators\"` in the top 5 suggests that even relatively simple products can `achieve high ratings` if they meet customer needs effectively.***"
      ],
      "metadata": {
        "id": "XkiVWI7EhV-V"
      }
    },
    {
      "cell_type": "markdown",
      "source": [
        "---"
      ],
      "metadata": {
        "id": "ZUydZrdjhV-W"
      }
    },
    {
      "cell_type": "markdown",
      "source": [
        "# <p style=\"font-family:newtimeroman;font-size:150%;text-align:center;color:#06445e;\"> Conclusion</p>\n",
        "### ***The primary goal of this project is to analyze the Amazon Sales dataset and identify insights based on the data. The Amazon Sales dataset is a valuable resource for businesses and researchers alike. It provides a wealth of information about customer behavior, product trends, and market conditions. By conducting exploratory data analysis (EDA) on this dataset, businesses can gain valuable insights that can help them make better decisions about their products, marketing, and operations.***"
      ],
      "metadata": {
        "id": "TU10CzyLhV-W"
      }
    },
    {
      "cell_type": "markdown",
      "source": [
        "### ***During this EDA exercise, we have achieved several milestones:***\n",
        "#### - ***We have cleaned the dataset from null values.***\n",
        "#### - ***No duplications found in the data.***\n",
        "---\n"
      ],
      "metadata": {
        "id": "qSKIBIKThV-W"
      }
    },
    {
      "cell_type": "markdown",
      "source": [
        "# **<p style=\"font-family:newtimeroman;font-size:150%;text-align:center;color:#06445e;\">Contact Details</p>**\n",
        "### ***Click on link below to contact/follow/correct me:***\n",
        "\n",
        "- [LinkedIn](https://www.linkedin.com/in/mehak-iftikhar/)\n",
        "- [Facebook](https://www.facebook.com/profile.php?id=61552023122774)\n",
        "- [Twitter](https://twitter.com/mehakkhan874)\n",
        "- [Kaggle](https://www.kaggle.com/mehakiftikhar)\n",
        "- [Medium](https://medium.com/@mehakkhan301007)"
      ],
      "metadata": {
        "id": "V_mUWBXuhV-X"
      }
    },
    {
      "cell_type": "markdown",
      "source": [
        "---"
      ],
      "metadata": {
        "id": "Fzw0ayXUhV-X"
      }
    }
  ]
}